{
 "cells": [
  {
   "cell_type": "markdown",
   "id": "eb389da8-c7af-4384-b67a-ba4002bcc128",
   "metadata": {
    "id": "dE8UfDcr7T1y"
   },
   "source": [
    "# Bucles"
   ]
  },
  {
   "cell_type": "markdown",
   "id": "46a9d7e0-a02d-4d77-a42c-a78ecf4d2c88",
   "metadata": {
    "id": "dE8UfDcr7T1y"
   },
   "source": [
    "Los **bucles** en Python se utilizan para **ejecutar un bloque de código de forma repetida**.\n",
    "\n",
    "Python proporciona dos tipos de bucles:\n",
    "* `for`: ejecutan el código una cantidad **determinada** de veces (1,2,3,... veces)\n",
    "* `while`: ejecutan el código una cantidad **indeterminada** de veces. Se repite el codigo mientras se cumpla una condición."
   ]
  }
 ],
 "metadata": {
  "kernelspec": {
   "display_name": "Python 3 (ipykernel)",
   "language": "python",
   "name": "python3"
  },
  "language_info": {
   "codemirror_mode": {
    "name": "ipython",
    "version": 3
   },
   "file_extension": ".py",
   "mimetype": "text/x-python",
   "name": "python",
   "nbconvert_exporter": "python",
   "pygments_lexer": "ipython3",
   "version": "3.12.8"
  }
 },
 "nbformat": 4,
 "nbformat_minor": 5
}
